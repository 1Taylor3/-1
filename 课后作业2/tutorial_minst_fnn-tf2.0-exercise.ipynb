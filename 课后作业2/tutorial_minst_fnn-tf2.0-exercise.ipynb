{
 "cells": [
  {
   "cell_type": "markdown",
   "metadata": {},
   "source": [
    "## 准备数据"
   ]
  },
  {
   "cell_type": "code",
   "execution_count": 77,
   "metadata": {},
   "outputs": [],
   "source": [
    "import os\n",
    "import numpy as np\n",
    "import tensorflow as tf\n",
    "from tensorflow import keras\n",
    "from tensorflow.keras import layers, optimizers, datasets\n",
    "\n",
    "os.environ['TF_CPP_MIN_LOG_LEVEL'] = '2'  # or any {'0', '1', '2'}\n",
    "\n",
    "def mnist_dataset():\n",
    "    (x, y), (x_test, y_test) = datasets.mnist.load_data()\n",
    "    #normalize\n",
    "    x = x/255.0\n",
    "    x_test = x_test/255.0\n",
    "    \n",
    "    return (x, y), (x_test, y_test)"
   ]
  },
  {
   "cell_type": "code",
   "execution_count": 78,
   "metadata": {},
   "outputs": [
    {
     "name": "stdout",
     "output_type": "stream",
     "text": [
      "[(1, 'a'), (2, 'b'), (3, 'c'), (4, 'd')]\n"
     ]
    }
   ],
   "source": [
    "print(list(zip([1, 2, 3, 4], ['a', 'b', 'c', 'd'])))"
   ]
  },
  {
   "cell_type": "markdown",
   "metadata": {},
   "source": [
    "## 建立模型"
   ]
  },
  {
   "cell_type": "code",
   "execution_count": 79,
   "metadata": {},
   "outputs": [],
   "source": [
    "class myModel:\n",
    "    def __init__(self):\n",
    "        ####################\n",
    "        '''声明模型对应的参数'''\n",
    "    \n",
    "        # 定义第一层的参数\n",
    "        self.W1 = tf.Variable(tf.random.normal([784, 32]), name='W1')  # 权重矩阵的形状为[输入特征数, 输出特征数]\n",
    "        self.b1 = tf.Variable(tf.zeros([32]), name='b1')  # 偏置的形状与输出特征数相同\n",
    "        \n",
    "        # 定义第二层的参数\n",
    "        self.W2 = tf.Variable(tf.random.normal([32, 10]), name='W2')\n",
    "        self.b2 = tf.Variable(tf.zeros([10]), name='b2')\n",
    "        \n",
    "        ####################\n",
    "    def __call__(self, x):\n",
    "        ####################\n",
    "        '''实现模型函数体，返回未归一化的logits'''\n",
    "        \n",
    "         # 将输入展平\n",
    "        x =  tf.reshape(x, (tf.shape(x)[0], -1))\n",
    "       \n",
    "        \n",
    "        # 前向传播\n",
    "        x = tf.matmul(x, self.W1) + self.b1  # 第一层\n",
    "        x = tf.nn.relu(x)  # ReLU激活函数\n",
    "        x = tf.matmul(x, self.W2) + self.b2  # 第二层\n",
    "        logits = x\n",
    "\n",
    "        ####################\n",
    "        return logits\n",
    "    \n",
    "\n",
    "        \n",
    "model = myModel()\n",
    "\n",
    "optimizer = optimizers.Adam()"
   ]
  },
  {
   "cell_type": "markdown",
   "metadata": {},
   "source": [
    "## 计算 loss"
   ]
  },
  {
   "cell_type": "code",
   "execution_count": 80,
   "metadata": {},
   "outputs": [],
   "source": [
    "@tf.function\n",
    "def compute_loss(logits, labels):\n",
    "    return tf.reduce_mean(\n",
    "        tf.nn.sparse_softmax_cross_entropy_with_logits(\n",
    "            logits=logits, labels=labels))\n",
    "\n",
    "@tf.function\n",
    "def compute_accuracy(logits, labels):\n",
    "    predictions = tf.argmax(logits, axis=1)\n",
    "    return tf.reduce_mean(tf.cast(tf.equal(predictions, labels), tf.float32))\n",
    "\n",
    "@tf.function\n",
    "def train_one_step(model, optimizer, x, y):\n",
    "    with tf.GradientTape() as tape:\n",
    "        logits = model(x)\n",
    "        loss = compute_loss(logits, y)\n",
    "\n",
    "    # compute gradient\n",
    "    trainable_vars = [model.W1, model.W2, model.b1, model.b2]\n",
    "    grads = tape.gradient(loss, trainable_vars)\n",
    "    for g, v in zip(grads, trainable_vars):\n",
    "        v.assign_sub(0.1*g)\n",
    "\n",
    "    accuracy = compute_accuracy(logits, y)\n",
    "\n",
    "    # loss and accuracy is scalar tensor\n",
    "    return loss, accuracy\n",
    "\n",
    "@tf.function\n",
    "def test(model, x, y):\n",
    "    logits = model(x)\n",
    "    loss = compute_loss(logits, y)\n",
    "    accuracy = compute_accuracy(logits, y)\n",
    "    return loss, accuracy"
   ]
  },
  {
   "cell_type": "markdown",
   "metadata": {},
   "source": [
    "## 实际训练"
   ]
  },
  {
   "cell_type": "code",
   "execution_count": 81,
   "metadata": {},
   "outputs": [
    {
     "name": "stdout",
     "output_type": "stream",
     "text": [
      "epoch 0 : loss 49.173527 ; accuracy 0.115616664\n",
      "epoch 1 : loss 32.198086 ; accuracy 0.1334\n",
      "epoch 2 : loss 25.40805 ; accuracy 0.16355\n",
      "epoch 3 : loss 21.913671 ; accuracy 0.1893\n",
      "epoch 4 : loss 19.542559 ; accuracy 0.21056667\n",
      "epoch 5 : loss 17.77113 ; accuracy 0.23083334\n",
      "epoch 6 : loss 16.319513 ; accuracy 0.24966666\n",
      "epoch 7 : loss 15.079931 ; accuracy 0.2673\n",
      "epoch 8 : loss 14.005213 ; accuracy 0.28396666\n",
      "epoch 9 : loss 13.066759 ; accuracy 0.29955\n",
      "epoch 10 : loss 12.241026 ; accuracy 0.31381667\n",
      "epoch 11 : loss 11.51026 ; accuracy 0.3277\n",
      "epoch 12 : loss 10.859932 ; accuracy 0.3411\n",
      "epoch 13 : loss 10.279371 ; accuracy 0.35265\n",
      "epoch 14 : loss 9.757779 ; accuracy 0.3637\n",
      "epoch 15 : loss 9.286431 ; accuracy 0.3747\n",
      "epoch 16 : loss 8.858755 ; accuracy 0.38451666\n",
      "epoch 17 : loss 8.469978 ; accuracy 0.39438334\n",
      "epoch 18 : loss 8.114214 ; accuracy 0.40303335\n",
      "epoch 19 : loss 7.7881246 ; accuracy 0.4116\n",
      "epoch 20 : loss 7.4884853 ; accuracy 0.4192\n",
      "epoch 21 : loss 7.212893 ; accuracy 0.42641667\n",
      "epoch 22 : loss 6.9582458 ; accuracy 0.43283334\n",
      "epoch 23 : loss 6.722395 ; accuracy 0.43898332\n",
      "epoch 24 : loss 6.5033827 ; accuracy 0.44491667\n",
      "epoch 25 : loss 6.299754 ; accuracy 0.45055\n",
      "epoch 26 : loss 6.1102343 ; accuracy 0.4559\n",
      "epoch 27 : loss 5.933201 ; accuracy 0.46051666\n",
      "epoch 28 : loss 5.7678394 ; accuracy 0.46596667\n",
      "epoch 29 : loss 5.6132174 ; accuracy 0.47071666\n",
      "epoch 30 : loss 5.468076 ; accuracy 0.47521666\n",
      "epoch 31 : loss 5.331974 ; accuracy 0.47906667\n",
      "epoch 32 : loss 5.203947 ; accuracy 0.48373333\n",
      "epoch 33 : loss 5.083199 ; accuracy 0.48753333\n",
      "epoch 34 : loss 4.9693403 ; accuracy 0.49113333\n",
      "epoch 35 : loss 4.8617573 ; accuracy 0.49443334\n",
      "epoch 36 : loss 4.7601433 ; accuracy 0.49721667\n",
      "epoch 37 : loss 4.6638403 ; accuracy 0.50025\n",
      "epoch 38 : loss 4.5722675 ; accuracy 0.50315\n",
      "epoch 39 : loss 4.4849677 ; accuracy 0.5063\n",
      "epoch 40 : loss 4.4017353 ; accuracy 0.5096667\n",
      "epoch 41 : loss 4.322364 ; accuracy 0.512\n",
      "epoch 42 : loss 4.246465 ; accuracy 0.51426667\n",
      "epoch 43 : loss 4.173898 ; accuracy 0.51661664\n",
      "epoch 44 : loss 4.104344 ; accuracy 0.51925\n",
      "epoch 45 : loss 4.0376225 ; accuracy 0.52105\n",
      "epoch 46 : loss 3.9735682 ; accuracy 0.52345\n",
      "epoch 47 : loss 3.912013 ; accuracy 0.5255833\n",
      "epoch 48 : loss 3.852838 ; accuracy 0.5269833\n",
      "epoch 49 : loss 3.7957802 ; accuracy 0.529\n",
      "test loss 3.6675637 ; accuracy 0.5358\n"
     ]
    }
   ],
   "source": [
    "train_data, test_data = mnist_dataset()\n",
    "for epoch in range(50):\n",
    "    loss, accuracy = train_one_step(model, optimizer, \n",
    "                                    tf.constant(train_data[0], dtype=tf.float32), \n",
    "                                    tf.constant(train_data[1], dtype=tf.int64))\n",
    "    print('epoch', epoch, ': loss', loss.numpy(), '; accuracy', accuracy.numpy())\n",
    "loss, accuracy = test(model, \n",
    "                      tf.constant(test_data[0], dtype=tf.float32), \n",
    "                      tf.constant(test_data[1], dtype=tf.int64))\n",
    "\n",
    "print('test loss', loss.numpy(), '; accuracy', accuracy.numpy())"
   ]
  }
 ],
 "metadata": {
  "kernelspec": {
   "display_name": "Python 3",
   "language": "python",
   "name": "python3"
  },
  "language_info": {
   "codemirror_mode": {
    "name": "ipython",
    "version": 3
   },
   "file_extension": ".py",
   "mimetype": "text/x-python",
   "name": "python",
   "nbconvert_exporter": "python",
   "pygments_lexer": "ipython3",
   "version": "3.11.3"
  }
 },
 "nbformat": 4,
 "nbformat_minor": 2
}
